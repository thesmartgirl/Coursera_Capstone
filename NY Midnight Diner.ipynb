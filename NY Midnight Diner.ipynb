{
    "cells": [
        {
            "cell_type": "markdown",
            "metadata": {
                "collapsed": true
            },
            "source": "<h1>Introduction"
        },
        {
            "cell_type": "markdown",
            "metadata": {},
            "source": "Midnight Diner (\u6df1\u591c\u98df\u5802, Shinya shokud\u014d) is a Japanese anthology TV series based on the manga of the same name by Yar\u014d Abe. The show focuses on a midnight diner, the chef, known only as \"The Master\", and his involvement with his customers.\n\nThe setting of Midnight Diner is a small 12 seat Izakaya called \"Meshiya\" in Shinjuku, Tokyo. Despite the restaurant's strange opening hours, 12 am to 7 am, it is popular with the busy nightlife of Shinjuku. The Shinjuku setting, and the hours of operation, means that much of the Midnight Diner story takes place at night.\n\nThe show was well received when it started streaming on Netflix. It has an IMDB rating of 8.4.\n\nThe popularity of the show inspired one business man to open a midnight diner in New York. This report aims to find the best location for such a diner. The selected location must be in a neighborhood with active night life scene, and maybe with some asian culture influences.\n\n"
        },
        {
            "cell_type": "markdown",
            "metadata": {},
            "source": "<h1>Data"
        },
        {
            "cell_type": "markdown",
            "metadata": {},
            "source": "New York has a total of 5 boroughs and 306 neighborhoods. For NY geolocation data, I will use the same dataset used in the labs; available at https://geo.nyu.edu/catalog/nyu_2451_34572 or https://ibm.box.com/shared/static/fbpwbovar7lf8p5sgddm06cgipa2rxpe.json"
        },
        {
            "cell_type": "code",
            "execution_count": 3,
            "metadata": {},
            "outputs": [
                {
                    "name": "stdout",
                    "output_type": "stream",
                    "text": "Data downloaded!\n"
                }
            ],
            "source": "!wget -q -O 'newyork_data.json' https://ibm.box.com/shared/static/fbpwbovar7lf8p5sgddm06cgipa2rxpe.json\nprint('Data downloaded!')"
        },
        {
            "cell_type": "markdown",
            "metadata": {},
            "source": "I will also use Foursquare API to get information about night life venues in New York. Similar to the lab, the explore end point will be used but now the category will be specific to night life."
        },
        {
            "cell_type": "code",
            "execution_count": null,
            "metadata": {},
            "outputs": [],
            "source": ""
        }
    ],
    "metadata": {
        "kernelspec": {
            "display_name": "Python 3.6",
            "language": "python",
            "name": "python3"
        },
        "language_info": {
            "codemirror_mode": {
                "name": "ipython",
                "version": 3
            },
            "file_extension": ".py",
            "mimetype": "text/x-python",
            "name": "python",
            "nbconvert_exporter": "python",
            "pygments_lexer": "ipython3",
            "version": "3.6.9"
        }
    },
    "nbformat": 4,
    "nbformat_minor": 1
}